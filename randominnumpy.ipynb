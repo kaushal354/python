{
 "cells": [
  {
   "cell_type": "code",
   "execution_count": 91,
   "id": "01c94568-915f-44d4-b15e-a6c37d36b0eb",
   "metadata": {},
   "outputs": [],
   "source": [
    "#random sampling with numpy"
   ]
  },
  {
   "cell_type": "code",
   "execution_count": 92,
   "id": "2702b59c-c876-4365-a93e-228cabb1f3ba",
   "metadata": {},
   "outputs": [],
   "source": [
    "import numpy as np\n",
    "import random"
   ]
  },
  {
   "cell_type": "code",
   "execution_count": 93,
   "id": "b34f8b63-706e-4e7c-94ee-2c4ae9e96ec4",
   "metadata": {},
   "outputs": [
    {
     "data": {
      "text/plain": [
       "array([0.97150578])"
      ]
     },
     "execution_count": 93,
     "metadata": {},
     "output_type": "execute_result"
    }
   ],
   "source": [
    "np.random.random(1)"
   ]
  },
  {
   "cell_type": "code",
   "execution_count": 94,
   "id": "d0c7601f-310d-4f47-9d43-7a2d1da95f9b",
   "metadata": {},
   "outputs": [
    {
     "data": {
      "text/plain": [
       "array([[0.02417593, 0.56716739, 0.62109938],\n",
       "       [0.51130855, 0.03798847, 0.59075472],\n",
       "       [0.40034462, 0.9497373 , 0.92792582]])"
      ]
     },
     "execution_count": 94,
     "metadata": {},
     "output_type": "execute_result"
    }
   ],
   "source": [
    "np.random.random((3,3))"
   ]
  },
  {
   "cell_type": "code",
   "execution_count": 95,
   "id": "86352ecf-4cc4-46bd-a392-59578d28ea59",
   "metadata": {},
   "outputs": [
    {
     "data": {
      "text/plain": [
       "3"
      ]
     },
     "execution_count": 95,
     "metadata": {},
     "output_type": "execute_result"
    }
   ],
   "source": [
    "np.random.randint(1,4)"
   ]
  },
  {
   "cell_type": "code",
   "execution_count": 96,
   "id": "5e9344d9-8adf-4758-9a79-0130f792d055",
   "metadata": {},
   "outputs": [
    {
     "data": {
      "text/plain": [
       "array([[2, 3, 1, 3],\n",
       "       [1, 3, 3, 3],\n",
       "       [2, 1, 3, 3],\n",
       "       [3, 1, 1, 3]])"
      ]
     },
     "execution_count": 96,
     "metadata": {},
     "output_type": "execute_result"
    }
   ],
   "source": [
    "np.random.randint(1,4, (4,4))"
   ]
  },
  {
   "cell_type": "code",
   "execution_count": 98,
   "id": "3318361b-c379-4070-9ab6-83792471c57b",
   "metadata": {},
   "outputs": [
    {
     "data": {
      "text/plain": [
       "array([[[3, 2, 1, 1],\n",
       "        [2, 3, 3, 3],\n",
       "        [2, 2, 2, 1],\n",
       "        [1, 1, 2, 2]],\n",
       "\n",
       "       [[3, 1, 3, 2],\n",
       "        [1, 3, 3, 3],\n",
       "        [3, 3, 3, 2],\n",
       "        [2, 1, 1, 2]]])"
      ]
     },
     "execution_count": 98,
     "metadata": {},
     "output_type": "execute_result"
    }
   ],
   "source": [
    "np.random.randint(1,4, (2,4,4))"
   ]
  },
  {
   "cell_type": "code",
   "execution_count": 100,
   "id": "57d9300a-a88f-497f-b78b-fa88550c0cf8",
   "metadata": {},
   "outputs": [
    {
     "data": {
      "text/plain": [
       "array([[[2, 2, 1, 1],\n",
       "        [2, 1, 2, 2],\n",
       "        [1, 2, 2, 3],\n",
       "        [1, 2, 1, 3]],\n",
       "\n",
       "       [[1, 3, 1, 1],\n",
       "        [1, 3, 1, 3],\n",
       "        [3, 2, 1, 1],\n",
       "        [3, 2, 3, 2]]])"
      ]
     },
     "execution_count": 100,
     "metadata": {},
     "output_type": "execute_result"
    }
   ],
   "source": [
    "np.random.seed(10)\n",
    "#seed function is use to use same array every time which random function genrated\n",
    "np.random.randint(1,4, (2,4,4))"
   ]
  },
  {
   "cell_type": "code",
   "execution_count": 101,
   "id": "34988485-f38a-4d21-867d-76bd5d8c88a0",
   "metadata": {},
   "outputs": [
    {
     "data": {
      "text/plain": [
       "array([[[2, 2, 1, 1],\n",
       "        [2, 1, 2, 2],\n",
       "        [1, 2, 2, 3],\n",
       "        [1, 2, 1, 3]],\n",
       "\n",
       "       [[1, 3, 1, 1],\n",
       "        [1, 3, 1, 3],\n",
       "        [3, 2, 1, 1],\n",
       "        [3, 2, 3, 2]]])"
      ]
     },
     "execution_count": 101,
     "metadata": {},
     "output_type": "execute_result"
    }
   ],
   "source": [
    "np.random.seed(10)\n",
    "#seed function is use to use same array every time which random function genrated\n",
    "np.random.randint(1,4, (2,4,4))"
   ]
  },
  {
   "cell_type": "code",
   "execution_count": 102,
   "id": "cfff3300-edcc-4dcd-b905-0a5e59e7da3e",
   "metadata": {},
   "outputs": [
    {
     "data": {
      "text/plain": [
       "4294967295"
      ]
     },
     "execution_count": 102,
     "metadata": {},
     "output_type": "execute_result"
    }
   ],
   "source": [
    "2**32 -1"
   ]
  },
  {
   "cell_type": "code",
   "execution_count": 103,
   "id": "a9ff51ca-ddcd-403c-a107-a8ef3020c847",
   "metadata": {},
   "outputs": [
    {
     "data": {
      "text/plain": [
       "array([0.13145815, 0.41366737, 0.77872881])"
      ]
     },
     "execution_count": 103,
     "metadata": {},
     "output_type": "execute_result"
    }
   ],
   "source": [
    "np.random.rand(3)"
   ]
  },
  {
   "cell_type": "code",
   "execution_count": 104,
   "id": "8c39a03e-4a9b-4d4b-95cc-9ca5a99c15d9",
   "metadata": {},
   "outputs": [
    {
     "data": {
      "text/plain": [
       "array([[0.58390137, 0.18263144, 0.82608225],\n",
       "       [0.10540183, 0.28357668, 0.06556327],\n",
       "       [0.05644419, 0.76545582, 0.01178803]])"
      ]
     },
     "execution_count": 104,
     "metadata": {},
     "output_type": "execute_result"
    }
   ],
   "source": [
    "np.random.rand(3,3)"
   ]
  },
  {
   "cell_type": "code",
   "execution_count": 105,
   "id": "1e0fe946-206f-4198-8668-b37a996d5123",
   "metadata": {},
   "outputs": [
    {
     "data": {
      "text/plain": [
       "array([[-1.58494101,  1.05535316, -1.92657911],\n",
       "       [ 0.69858388, -0.74620143, -0.15662666],\n",
       "       [-0.19363594,  1.13912535,  0.36221796]])"
      ]
     },
     "execution_count": 105,
     "metadata": {},
     "output_type": "execute_result"
    }
   ],
   "source": [
    "np.random.randn(3,3)"
   ]
  },
  {
   "cell_type": "code",
   "execution_count": 106,
   "id": "0cd4c331-de23-425b-b311-e8952ebb60aa",
   "metadata": {},
   "outputs": [
    {
     "data": {
      "text/plain": [
       "1"
      ]
     },
     "execution_count": 106,
     "metadata": {},
     "output_type": "execute_result"
    }
   ],
   "source": [
    "x = [1,2,3,4]\n",
    "np.random.choice(x)"
   ]
  },
  {
   "cell_type": "code",
   "execution_count": 107,
   "id": "80ad8526-2435-491e-9020-685d12ec099c",
   "metadata": {},
   "outputs": [
    {
     "data": {
      "text/plain": [
       "1"
      ]
     },
     "execution_count": 107,
     "metadata": {},
     "output_type": "execute_result"
    }
   ],
   "source": [
    "x = [1,2,3,4]\n",
    "np.random.choice(x)"
   ]
  },
  {
   "cell_type": "code",
   "execution_count": 109,
   "id": "d5194805-52c2-4636-8971-25ca7461754e",
   "metadata": {},
   "outputs": [
    {
     "name": "stdout",
     "output_type": "stream",
     "text": [
      "1\n",
      "2\n",
      "1\n",
      "4\n",
      "1\n",
      "1\n",
      "3\n",
      "1\n",
      "3\n",
      "3\n",
      "1\n",
      "4\n",
      "2\n",
      "1\n",
      "4\n",
      "2\n",
      "3\n",
      "3\n",
      "2\n",
      "3\n"
     ]
    }
   ],
   "source": [
    "for i in range(20):\n",
    "    print(np.random.choice(x))"
   ]
  },
  {
   "cell_type": "code",
   "execution_count": 111,
   "id": "268abc46-ab7b-4968-a804-336c5388c224",
   "metadata": {},
   "outputs": [
    {
     "data": {
      "text/plain": [
       "array([2, 3, 4, 1])"
      ]
     },
     "execution_count": 111,
     "metadata": {},
     "output_type": "execute_result"
    }
   ],
   "source": [
    "np.random.permutation(x)\n"
   ]
  },
  {
   "cell_type": "code",
   "execution_count": 112,
   "id": "5f4f3462-c5d3-46d5-996b-783df6c93570",
   "metadata": {},
   "outputs": [
    {
     "data": {
      "text/plain": [
       "array([1, 4, 2, 3])"
      ]
     },
     "execution_count": 112,
     "metadata": {},
     "output_type": "execute_result"
    }
   ],
   "source": [
    "np.random.permutation(x)"
   ]
  },
  {
   "cell_type": "code",
   "execution_count": null,
   "id": "48d78ad6-776d-4a75-a2cc-4e4005598bca",
   "metadata": {},
   "outputs": [],
   "source": []
  }
 ],
 "metadata": {
  "kernelspec": {
   "display_name": "Python 3 (ipykernel)",
   "language": "python",
   "name": "python3"
  },
  "language_info": {
   "codemirror_mode": {
    "name": "ipython",
    "version": 3
   },
   "file_extension": ".py",
   "mimetype": "text/x-python",
   "name": "python",
   "nbconvert_exporter": "python",
   "pygments_lexer": "ipython3",
   "version": "3.12.4"
  }
 },
 "nbformat": 4,
 "nbformat_minor": 5
}
