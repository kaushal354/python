{
 "cells": [
  {
   "cell_type": "code",
   "execution_count": 1,
   "id": "2afc36f0-815a-4126-a65c-64e2ffa457b8",
   "metadata": {},
   "outputs": [],
   "source": [
    "#String Operations, comparison and information"
   ]
  },
  {
   "cell_type": "code",
   "execution_count": 2,
   "id": "d7cc3b04-bb92-4383-8e6b-a7e3daf5f15f",
   "metadata": {},
   "outputs": [],
   "source": [
    "import numpy as np"
   ]
  },
  {
   "cell_type": "code",
   "execution_count": 5,
   "id": "907a24e5-2303-41a1-bd41-1dfd079c6a12",
   "metadata": {},
   "outputs": [],
   "source": [
    "ch_name = \"indian Ai production\"\n",
    "str_1 = \"python numpy\""
   ]
  },
  {
   "cell_type": "code",
   "execution_count": 6,
   "id": "dfc51457-a866-4030-8f22-b7ffce73df8e",
   "metadata": {},
   "outputs": [
    {
     "data": {
      "text/plain": [
       "array('indian Ai productionpython numpy', dtype='<U32')"
      ]
     },
     "execution_count": 6,
     "metadata": {},
     "output_type": "execute_result"
    }
   ],
   "source": [
    "np.char.add(ch_name, str_1)"
   ]
  },
  {
   "cell_type": "code",
   "execution_count": 7,
   "id": "b16d3849-cd40-4e7b-af79-ff39a2d2c7e2",
   "metadata": {},
   "outputs": [
    {
     "data": {
      "text/plain": [
       "array('indian ai production', dtype='<U20')"
      ]
     },
     "execution_count": 7,
     "metadata": {},
     "output_type": "execute_result"
    }
   ],
   "source": [
    "np.char.lower(ch_name)"
   ]
  },
  {
   "cell_type": "code",
   "execution_count": 9,
   "id": "c5372033-f824-47c2-9179-137b1d35bc68",
   "metadata": {},
   "outputs": [
    {
     "data": {
      "text/plain": [
       "array('PYTHON NUMPY', dtype='<U12')"
      ]
     },
     "execution_count": 9,
     "metadata": {},
     "output_type": "execute_result"
    }
   ],
   "source": [
    "np.char.upper(str_1)"
   ]
  },
  {
   "cell_type": "code",
   "execution_count": 10,
   "id": "6c888bad-edc4-47fb-9213-38c08d2c40ee",
   "metadata": {},
   "outputs": [
    {
     "data": {
      "text/plain": [
       "array('                        python numpy                        ',\n",
       "      dtype='<U60')"
      ]
     },
     "execution_count": 10,
     "metadata": {},
     "output_type": "execute_result"
    }
   ],
   "source": [
    "np.char.center(str_1, 60)"
   ]
  },
  {
   "cell_type": "code",
   "execution_count": 11,
   "id": "377af4f6-ef14-493b-ae10-eecae911e428",
   "metadata": {},
   "outputs": [
    {
     "data": {
      "text/plain": [
       "array('************************python numpy************************',\n",
       "      dtype='<U60')"
      ]
     },
     "execution_count": 11,
     "metadata": {},
     "output_type": "execute_result"
    }
   ],
   "source": [
    "np.char.center(str_1, 60, fillchar=\"*\")"
   ]
  },
  {
   "cell_type": "code",
   "execution_count": 12,
   "id": "ad1a804d-0a43-4fd2-855a-cdcf6da7dce4",
   "metadata": {},
   "outputs": [
    {
     "data": {
      "text/plain": [
       "array(list(['indian', 'Ai', 'production']), dtype=object)"
      ]
     },
     "execution_count": 12,
     "metadata": {},
     "output_type": "execute_result"
    }
   ],
   "source": [
    "np.char.split(ch_name)"
   ]
  },
  {
   "cell_type": "code",
   "execution_count": 13,
   "id": "487ceddf-b91c-4ead-a9d9-9e941571dc3c",
   "metadata": {},
   "outputs": [
    {
     "data": {
      "text/plain": [
       "array(list(['hello', 'india']), dtype=object)"
      ]
     },
     "execution_count": 13,
     "metadata": {},
     "output_type": "execute_result"
    }
   ],
   "source": [
    "np.char.splitlines(\"hello\\nindia\")"
   ]
  },
  {
   "cell_type": "code",
   "execution_count": 14,
   "id": "aedcccb4-e9c6-4695-8395-f777d024be58",
   "metadata": {},
   "outputs": [],
   "source": [
    "str4 = \"dmy\"\n",
    "str5 = \"dmy\""
   ]
  },
  {
   "cell_type": "code",
   "execution_count": 15,
   "id": "d6923348-0f30-482d-bca9-a9accab4a060",
   "metadata": {},
   "outputs": [
    {
     "data": {
      "text/plain": [
       "array(['d:m:y', 'd/m/y'], dtype='<U5')"
      ]
     },
     "execution_count": 15,
     "metadata": {},
     "output_type": "execute_result"
    }
   ],
   "source": [
    "np.char.join([\":\",\"/\"], [str4, str5])"
   ]
  },
  {
   "cell_type": "code",
   "execution_count": 17,
   "id": "7c5a5d4d-fd65-44b6-8c33-3f2184e81063",
   "metadata": {},
   "outputs": [
    {
     "data": {
      "text/plain": [
       "array('indian Articial Intelligence production', dtype='<U39')"
      ]
     },
     "execution_count": 17,
     "metadata": {},
     "output_type": "execute_result"
    }
   ],
   "source": [
    "np.char.replace(ch_name, \"Ai\", \"Articial Intelligence\")"
   ]
  },
  {
   "cell_type": "code",
   "execution_count": 18,
   "id": "34b1208f-f51b-4009-a6d8-eb970957fdb1",
   "metadata": {},
   "outputs": [
    {
     "data": {
      "text/plain": [
       "array(True)"
      ]
     },
     "execution_count": 18,
     "metadata": {},
     "output_type": "execute_result"
    }
   ],
   "source": [
    "np.char.equal(str4, str5)"
   ]
  },
  {
   "cell_type": "code",
   "execution_count": 19,
   "id": "6c51cf34-db6a-474b-aebf-1579052f605d",
   "metadata": {},
   "outputs": [
    {
     "data": {
      "text/plain": [
       "array(1)"
      ]
     },
     "execution_count": 19,
     "metadata": {},
     "output_type": "execute_result"
    }
   ],
   "source": [
    "np.char.count(ch_name, \"a\")"
   ]
  },
  {
   "cell_type": "code",
   "execution_count": 20,
   "id": "6ed14402-5597-42dd-8a45-ce4525908ebd",
   "metadata": {},
   "outputs": [
    {
     "data": {
      "text/plain": [
       "'indian Ai production'"
      ]
     },
     "execution_count": 20,
     "metadata": {},
     "output_type": "execute_result"
    }
   ],
   "source": [
    "ch_name"
   ]
  },
  {
   "cell_type": "code",
   "execution_count": 22,
   "id": "c43b5416-fb8f-4054-861d-1eea8877929f",
   "metadata": {},
   "outputs": [
    {
     "data": {
      "text/plain": [
       "array(7)"
      ]
     },
     "execution_count": 22,
     "metadata": {},
     "output_type": "execute_result"
    }
   ],
   "source": [
    "np.char.find(ch_name, \"Ai\")"
   ]
  },
  {
   "cell_type": "code",
   "execution_count": null,
   "id": "2cbe1c94-6dec-4b61-b5d7-2e1798b485d8",
   "metadata": {},
   "outputs": [],
   "source": []
  }
 ],
 "metadata": {
  "kernelspec": {
   "display_name": "Python 3 (ipykernel)",
   "language": "python",
   "name": "python3"
  },
  "language_info": {
   "codemirror_mode": {
    "name": "ipython",
    "version": 3
   },
   "file_extension": ".py",
   "mimetype": "text/x-python",
   "name": "python",
   "nbconvert_exporter": "python",
   "pygments_lexer": "ipython3",
   "version": "3.12.4"
  }
 },
 "nbformat": 4,
 "nbformat_minor": 5
}
